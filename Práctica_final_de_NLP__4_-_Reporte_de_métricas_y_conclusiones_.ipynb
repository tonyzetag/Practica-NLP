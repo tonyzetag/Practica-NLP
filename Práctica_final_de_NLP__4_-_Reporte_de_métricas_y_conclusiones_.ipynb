{
 "cells": [
  {
   "cell_type": "markdown",
   "id": "1a08cd89",
   "metadata": {},
   "source": [
    "# Carga de métricas"
   ]
  },
  {
   "cell_type": "code",
   "execution_count": 74,
   "id": "62e2af5a",
   "metadata": {},
   "outputs": [],
   "source": [
    "# Librerías necesarias\n",
    "import pandas as pd\n",
    "import numpy as np\n",
    "import matplotlib.pyplot as plt\n",
    "import seaborn as sns\n",
    "import pickle"
   ]
  },
  {
   "cell_type": "code",
   "execution_count": 2,
   "id": "9a857525",
   "metadata": {},
   "outputs": [],
   "source": [
    "# Función que devuelve el score previamente guardado\n",
    "def score_from_pkl(path):\n",
    "    with open(path, 'rb') as file:\n",
    "        return pickle.load(file)"
   ]
  },
  {
   "cell_type": "code",
   "execution_count": 3,
   "id": "e341eeb9",
   "metadata": {},
   "outputs": [],
   "source": [
    "# Los modelos\n",
    "paths = [\"./Score/model_1_scores.pkl\", \n",
    "         \"./Score/model_2_scores.pkl\", \n",
    "         \"./Score/model_3_scores.pkl\"]"
   ]
  },
  {
   "cell_type": "code",
   "execution_count": 4,
   "id": "6247bfc8",
   "metadata": {},
   "outputs": [],
   "source": [
    "# Guardamos las scores\n",
    "scores = [score_from_pkl(path) for path in paths]"
   ]
  },
  {
   "cell_type": "code",
   "execution_count": 6,
   "id": "14150acb",
   "metadata": {},
   "outputs": [
    {
     "data": {
      "text/html": [
       "<div>\n",
       "<style scoped>\n",
       "    .dataframe tbody tr th:only-of-type {\n",
       "        vertical-align: middle;\n",
       "    }\n",
       "\n",
       "    .dataframe tbody tr th {\n",
       "        vertical-align: top;\n",
       "    }\n",
       "\n",
       "    .dataframe thead th {\n",
       "        text-align: right;\n",
       "    }\n",
       "</style>\n",
       "<table border=\"1\" class=\"dataframe\">\n",
       "  <thead>\n",
       "    <tr style=\"text-align: right;\">\n",
       "      <th></th>\n",
       "      <th>0</th>\n",
       "      <th>1</th>\n",
       "      <th>2</th>\n",
       "    </tr>\n",
       "  </thead>\n",
       "  <tbody>\n",
       "    <tr>\n",
       "      <th>Name</th>\n",
       "      <td>TF-IDF + Logistic Regression</td>\n",
       "      <td>BoW + Logistic Regression</td>\n",
       "      <td>Word2Vec + LSTM</td>\n",
       "    </tr>\n",
       "    <tr>\n",
       "      <th>Confusion Matrix train</th>\n",
       "      <td>[[11585, 7880], [3054, 97481]]</td>\n",
       "      <td>[[10245, 9220], [3052, 97483]]</td>\n",
       "      <td>[[15555, 3910], [2361, 98174]]</td>\n",
       "    </tr>\n",
       "    <tr>\n",
       "      <th>Report train</th>\n",
       "      <td>precision    recall  f1-score   ...</td>\n",
       "      <td>precision    recall  f1-score   ...</td>\n",
       "      <td>precision    recall  f1-score   ...</td>\n",
       "    </tr>\n",
       "    <tr>\n",
       "      <th>Accuracy train</th>\n",
       "      <td>0.908883</td>\n",
       "      <td>0.897733</td>\n",
       "      <td>0.947742</td>\n",
       "    </tr>\n",
       "    <tr>\n",
       "      <th>Confusion Matrix val</th>\n",
       "      <td>[[2719, 2147], [949, 24185]]</td>\n",
       "      <td>[[2395, 2471], [904, 24230]]</td>\n",
       "      <td>[[3163, 1703], [1183, 23951]]</td>\n",
       "    </tr>\n",
       "    <tr>\n",
       "      <th>Report val</th>\n",
       "      <td>precision    recall  f1-score   ...</td>\n",
       "      <td>precision    recall  f1-score   ...</td>\n",
       "      <td>precision    recall  f1-score   ...</td>\n",
       "    </tr>\n",
       "    <tr>\n",
       "      <th>Accuracy val</th>\n",
       "      <td>0.8968</td>\n",
       "      <td>0.8875</td>\n",
       "      <td>0.9038</td>\n",
       "    </tr>\n",
       "    <tr>\n",
       "      <th>Confusion Matrix test</th>\n",
       "      <td>[[4566, 3544], [1619, 40271]]</td>\n",
       "      <td>[[4008, 4102], [1491, 40399]]</td>\n",
       "      <td>[[5293, 2817], [1819, 40071]]</td>\n",
       "    </tr>\n",
       "    <tr>\n",
       "      <th>Report test</th>\n",
       "      <td>precision    recall  f1-score   ...</td>\n",
       "      <td>precision    recall  f1-score   ...</td>\n",
       "      <td>precision    recall  f1-score   ...</td>\n",
       "    </tr>\n",
       "    <tr>\n",
       "      <th>Accuracy test</th>\n",
       "      <td>0.89674</td>\n",
       "      <td>0.88814</td>\n",
       "      <td>0.90728</td>\n",
       "    </tr>\n",
       "  </tbody>\n",
       "</table>\n",
       "</div>"
      ],
      "text/plain": [
       "                                                                        0  \\\n",
       "Name                                         TF-IDF + Logistic Regression   \n",
       "Confusion Matrix train                     [[11585, 7880], [3054, 97481]]   \n",
       "Report train                          precision    recall  f1-score   ...   \n",
       "Accuracy train                                                   0.908883   \n",
       "Confusion Matrix val                         [[2719, 2147], [949, 24185]]   \n",
       "Report val                            precision    recall  f1-score   ...   \n",
       "Accuracy val                                                       0.8968   \n",
       "Confusion Matrix test                       [[4566, 3544], [1619, 40271]]   \n",
       "Report test                           precision    recall  f1-score   ...   \n",
       "Accuracy test                                                     0.89674   \n",
       "\n",
       "                                                                        1  \\\n",
       "Name                                            BoW + Logistic Regression   \n",
       "Confusion Matrix train                     [[10245, 9220], [3052, 97483]]   \n",
       "Report train                          precision    recall  f1-score   ...   \n",
       "Accuracy train                                                   0.897733   \n",
       "Confusion Matrix val                         [[2395, 2471], [904, 24230]]   \n",
       "Report val                            precision    recall  f1-score   ...   \n",
       "Accuracy val                                                       0.8875   \n",
       "Confusion Matrix test                       [[4008, 4102], [1491, 40399]]   \n",
       "Report test                           precision    recall  f1-score   ...   \n",
       "Accuracy test                                                     0.88814   \n",
       "\n",
       "                                                                        2  \n",
       "Name                                                      Word2Vec + LSTM  \n",
       "Confusion Matrix train                     [[15555, 3910], [2361, 98174]]  \n",
       "Report train                          precision    recall  f1-score   ...  \n",
       "Accuracy train                                                   0.947742  \n",
       "Confusion Matrix val                        [[3163, 1703], [1183, 23951]]  \n",
       "Report val                            precision    recall  f1-score   ...  \n",
       "Accuracy val                                                       0.9038  \n",
       "Confusion Matrix test                       [[5293, 2817], [1819, 40071]]  \n",
       "Report test                           precision    recall  f1-score   ...  \n",
       "Accuracy test                                                     0.90728  "
      ]
     },
     "execution_count": 6,
     "metadata": {},
     "output_type": "execute_result"
    }
   ],
   "source": [
    "# Pasamos a dataframe\n",
    "df = pd.DataFrame(scores)\n",
    "df.T"
   ]
  },
  {
   "cell_type": "markdown",
   "id": "492ea39b",
   "metadata": {},
   "source": [
    "# Accuracy\n",
    "Esta métrica ha sido la función de pérdidas de cada modelo, esta mide la exactitud, es decir la probabilidad de acierto en cada predicción"
   ]
  },
  {
   "cell_type": "code",
   "execution_count": 7,
   "id": "85b7dd57",
   "metadata": {},
   "outputs": [
    {
     "data": {
      "text/html": [
       "<div>\n",
       "<style scoped>\n",
       "    .dataframe tbody tr th:only-of-type {\n",
       "        vertical-align: middle;\n",
       "    }\n",
       "\n",
       "    .dataframe tbody tr th {\n",
       "        vertical-align: top;\n",
       "    }\n",
       "\n",
       "    .dataframe thead th {\n",
       "        text-align: right;\n",
       "    }\n",
       "</style>\n",
       "<table border=\"1\" class=\"dataframe\">\n",
       "  <thead>\n",
       "    <tr style=\"text-align: right;\">\n",
       "      <th></th>\n",
       "      <th>Name</th>\n",
       "      <th>Accuracy train</th>\n",
       "      <th>Accuracy val</th>\n",
       "      <th>Accuracy test</th>\n",
       "    </tr>\n",
       "  </thead>\n",
       "  <tbody>\n",
       "    <tr>\n",
       "      <th>0</th>\n",
       "      <td>TF-IDF + Logistic Regression</td>\n",
       "      <td>0.908883</td>\n",
       "      <td>0.8968</td>\n",
       "      <td>0.89674</td>\n",
       "    </tr>\n",
       "    <tr>\n",
       "      <th>1</th>\n",
       "      <td>BoW + Logistic Regression</td>\n",
       "      <td>0.897733</td>\n",
       "      <td>0.8875</td>\n",
       "      <td>0.88814</td>\n",
       "    </tr>\n",
       "    <tr>\n",
       "      <th>2</th>\n",
       "      <td>Word2Vec + LSTM</td>\n",
       "      <td>0.947742</td>\n",
       "      <td>0.9038</td>\n",
       "      <td>0.90728</td>\n",
       "    </tr>\n",
       "  </tbody>\n",
       "</table>\n",
       "</div>"
      ],
      "text/plain": [
       "                           Name  Accuracy train  Accuracy val  Accuracy test\n",
       "0  TF-IDF + Logistic Regression        0.908883        0.8968        0.89674\n",
       "1     BoW + Logistic Regression        0.897733        0.8875        0.88814\n",
       "2               Word2Vec + LSTM        0.947742        0.9038        0.90728"
      ]
     },
     "execution_count": 7,
     "metadata": {},
     "output_type": "execute_result"
    }
   ],
   "source": [
    "df[['Name', 'Accuracy train', 'Accuracy val', 'Accuracy test']]"
   ]
  },
  {
   "cell_type": "markdown",
   "id": "65ca6987",
   "metadata": {},
   "source": [
    "Centrandonos en los resultados de test, podemos ver que los resultados son bastantes similares, aunque podemos observar el Word2Vec con las redes LSTM, funciona un poquito mejor"
   ]
  },
  {
   "cell_type": "markdown",
   "id": "d352fc94",
   "metadata": {},
   "source": [
    "# Confusion Matrix\n",
    "Matriz que nos da información sobre los aciertos y fallos en los positivos o negativos"
   ]
  },
  {
   "cell_type": "code",
   "execution_count": 85,
   "id": "a9cb25a8",
   "metadata": {},
   "outputs": [],
   "source": [
    "def plot_conf_matrix(matrix, title):\n",
    "    ax = sns.heatmap(matrix/np.sum(matrix), annot=True, fmt='.2%', cmap='Blues')\n",
    "    \n",
    "    ax.set_title(title[0]);\n",
    "    ax.set_xlabel('\\nPredicted Values')\n",
    "    ax.set_ylabel('Actual Values ');\n",
    "    \n",
    "    # Ticket labels - List must be in alphabetical order\n",
    "    ax.xaxis.set_ticklabels(['negativo','positivo'])\n",
    "    ax.yaxis.set_ticklabels(['negativo','positivo'])\n",
    "    # Display the visualization of the Confusion Matrix."
   ]
  },
  {
   "cell_type": "code",
   "execution_count": 86,
   "id": "b1593fd8",
   "metadata": {},
   "outputs": [
    {
     "data": {
      "image/png": "[encoded data removed]",
      "text/plain": [
       "<Figure size 1080x288 with 6 Axes>"
      ]
     },
     "metadata": {
      "needs_background": "light"
     },
     "output_type": "display_data"
    }
   ],
   "source": [
    "plt.rcParams[\"figure.figsize\"] = (15,4)\n",
    "plt.figure(\"Confusion Matrix\")\n",
    "plt.subplot(1,3,1)\n",
    "plot_conf_matrix(df.iloc[0][['Confusion Matrix test']][0], df.iloc[0][['Name']].values)\n",
    "plt.subplot(1,3,2)\n",
    "plot_conf_matrix(df.iloc[1][['Confusion Matrix test']][0], df.iloc[1][['Name']].values)\n",
    "plt.subplot(1,3,3)\n",
    "plot_conf_matrix(df.iloc[2][['Confusion Matrix test']][0], df.iloc[2][['Name']].values)\n",
    "plt.show()"
   ]
  },
  {
   "cell_type": "markdown",
   "id": "4c7f0d40",
   "metadata": {},
   "source": [
    "Comparando las gráficas, podemos observar que el que **mas acierto en sentimiento negativos** tiene es el modelo de Word2Vec + LSTM, y en **sentimiento positivo** el de BoW + Logistic Regression, por otra parte el modelo que **menos falla en sentimiento positivo** es el de BoW + Logistic Regression, y el que **menos falla en sentimiento negativo** es el de word2Vec + LSTM"
   ]
  },
  {
   "cell_type": "markdown",
   "id": "3f6b893a",
   "metadata": {},
   "source": [
    "Por otra parte para la elección del modelo, tenemos que pensar que queremos ¿priorizar los aciertos postivios, negativos, que falle menos en positivo, o que falle menos en negativo? la matriz de confusión nos ayuda en ese aspecto"
   ]
  },
  {
   "cell_type": "markdown",
   "id": "fdbfef56",
   "metadata": {},
   "source": [
    "# Precisision, recall, f1-score, support"
   ]
  },
  {
   "cell_type": "code",
   "execution_count": 13,
   "id": "56543d34",
   "metadata": {},
   "outputs": [
    {
     "name": "stdout",
     "output_type": "stream",
     "text": [
      "Name: Name    TF-IDF + Logistic Regression\n",
      "Name: 0, dtype: object\n",
      "\n",
      "              precision    recall  f1-score   support\n",
      "\n",
      "           0       0.74      0.56      0.64      8110\n",
      "           1       0.92      0.96      0.94     41890\n",
      "\n",
      "    accuracy                           0.90     50000\n",
      "   macro avg       0.83      0.76      0.79     50000\n",
      "weighted avg       0.89      0.90      0.89     50000\n",
      "\n"
     ]
    }
   ],
   "source": [
    "print(\"Name: {}\\n\".format(df.iloc[0][['Name']]))\n",
    "print(\"{}\".format(df.iloc[0][['Report test']][0]))"
   ]
  },
  {
   "cell_type": "code",
   "execution_count": 14,
   "id": "d8e3348f",
   "metadata": {},
   "outputs": [
    {
     "name": "stdout",
     "output_type": "stream",
     "text": [
      "Name: Name    BoW + Logistic Regression\n",
      "Name: 1, dtype: object\n",
      "\n",
      "              precision    recall  f1-score   support\n",
      "\n",
      "           0       0.73      0.49      0.59      8110\n",
      "           1       0.91      0.96      0.94     41890\n",
      "\n",
      "    accuracy                           0.89     50000\n",
      "   macro avg       0.82      0.73      0.76     50000\n",
      "weighted avg       0.88      0.89      0.88     50000\n",
      "\n"
     ]
    }
   ],
   "source": [
    "print(\"Name: {}\\n\".format(df.iloc[1][['Name']]))\n",
    "print(\"{}\".format(df.iloc[1][['Report test']][0]))"
   ]
  },
  {
   "cell_type": "code",
   "execution_count": 15,
   "id": "35e2df68",
   "metadata": {},
   "outputs": [
    {
     "name": "stdout",
     "output_type": "stream",
     "text": [
      "Name: Name    Word2Vec + LSTM\n",
      "Name: 2, dtype: object\n",
      "\n",
      "              precision    recall  f1-score   support\n",
      "\n",
      "           0       0.74      0.65      0.70      8110\n",
      "           1       0.93      0.96      0.95     41890\n",
      "\n",
      "    accuracy                           0.91     50000\n",
      "   macro avg       0.84      0.80      0.82     50000\n",
      "weighted avg       0.90      0.91      0.90     50000\n",
      "\n"
     ]
    }
   ],
   "source": [
    "print(\"Name: {}\\n\".format(df.iloc[2][['Name']]))\n",
    "print(\"{}\".format(df.iloc[2][['Report test']][0]))"
   ]
  },
  {
   "cell_type": "markdown",
   "id": "5554983e",
   "metadata": {},
   "source": [
    "* **Precisión**\n",
    "\n",
    "$TP / (TP + FP)$\n",
    "La precisión nos da una idea del acierto entre el total de datos ya sea para positivos o negativos, podemos comprobar que hay mas precisión en sentimiento positivo que negativo en todos los modelos\n",
    "\n",
    "* **Recall**\n",
    "\n",
    "$TP / (TP + FN)$\n",
    "Esta es una medición útil si queremos priorizar los aciertos en sentimiento positivo por encima de los fallos negativos en este aspecto, si por ejemplo no nos importa permitir que se cuelen mas falsos positivos (o viceversa) es la medida a tener en cuenta\n",
    "\n",
    "* **F1-score**\n",
    "\n",
    "Esta es una medida que combina precisión y recall mediante una media harmónica, esta medida es importante y útil en casos como este donde nuestros datos están desbalanceados a favor de sentimientos positivos\n",
    "\n",
    "* **support**\n",
    "\n",
    "Nos da simplemente el número de cada clase, podemos ver claramente el desbalanceo aquí"
   ]
  },
  {
   "cell_type": "markdown",
   "id": "f9281fcc",
   "metadata": {},
   "source": [
    "# Conclusión"
   ]
  },
  {
   "cell_type": "markdown",
   "id": "29980b43",
   "metadata": {},
   "source": [
    "* **El dataset**\n",
    "\n",
    "Partimos de un dataset **claramente desbalanceado**, lo cual puede ser engañoso determinadas métricas, una opción para corregir esto, si tenemos bastante samples, sería la opción de subsamplear la clase mayoritaria (reviews positivas), o penalizar más la clase mayoritaria que la otra.\n",
    "\n",
    "* **Extracción de características**\n",
    "\n",
    "Hemos podido comprobar 3 modelos de extracción de características, **TF-IDF**, **Bag of Words**, y **Word2Vec (Skip-gram y Cbow)**, cualquiera de las 3 van a extraer unos pesos a partir de un texto dependiendo de un critero, a mi pensar, parece mas completo Word2Vec para la extracción del contexto, que en este caso (análisis del sentimiento), creo que prima, sin embargo parece que todas se han portado muy bien.\n",
    "\n",
    "* **Modelos**\n",
    "\n",
    "En este caso se ha probado 2 modelos, **Logistic Regression** y **LSTM** (con pesos embebidos del Word2Vec en la capa inicial), la primera se a comportado muy bien, sobretodo en el parametro de regulación C=10, además son mucho mas rápidos que las LSTM, en cuanto a esta última, es mucho mas compeja y requiere mas recursos y tiempo, sin embargo, los resultados son muy buenos, y con tiempo y recursos suficientes se puede conseguir mejorar, sin embargo, parece mas viable hoy en día usar modelos preentrenados (como GPT2) y entrenar solo las primeras capas para adaptar el modelo"
   ]
  },
  {
   "cell_type": "code",
   "execution_count": null,
   "id": "fdba5406",
   "metadata": {},
   "outputs": [],
   "source": []
  },
  {
   "cell_type": "code",
   "execution_count": null,
   "id": "9746f46c",
   "metadata": {},
   "outputs": [],
   "source": []
  }
 ],
 "metadata": {
  "kernelspec": {
   "display_name": "Python 3 (ipykernel)",
   "language": "python",
   "name": "python3"
  },
  "language_info": {
   "codemirror_mode": {
    "name": "ipython",
    "version": 3
   },
   "file_extension": ".py",
   "mimetype": "text/x-python",
   "name": "python",
   "nbconvert_exporter": "python",
   "pygments_lexer": "ipython3",
   "version": "3.9.10"
  }
 },
 "nbformat": 4,
 "nbformat_minor": 5
}
